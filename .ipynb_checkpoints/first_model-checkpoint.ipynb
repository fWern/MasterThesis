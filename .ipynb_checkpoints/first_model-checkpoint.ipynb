{
 "cells": [
  {
   "cell_type": "code",
   "execution_count": 78,
   "id": "e7ff9891-f8b6-42e9-8183-ae390474399a",
   "metadata": {},
   "outputs": [],
   "source": [
    "import pandas as pd\n",
    "import numpy as np\n",
    "import matplotlib.pyplot as plt\n",
    "import os\n",
    "import re\n",
    "from PIL import Image\n",
    "import torch\n",
    "import torch.nn as nn\n",
    "import torch.optim as optim\n",
    "from torch.utils.data import Dataset, DataLoader\n",
    "from sklearn.preprocessing import LabelEncoder\n",
    "import clip\n",
    "from tqdm import tqdm"
   ]
  },
  {
   "cell_type": "code",
   "execution_count": 5,
   "id": "e6f84ad8-0477-45b4-be9c-977b4a5ecdac",
   "metadata": {},
   "outputs": [],
   "source": [
    "# paths \n",
    "DATA_PATH_HEARTHSTONE = '../dataset/Hearthstone-Minion-race/'"
   ]
  },
  {
   "cell_type": "code",
   "execution_count": 6,
   "id": "2eccb7f8-1603-40b1-9e84-60e4d98e1c33",
   "metadata": {},
   "outputs": [],
   "source": [
    "df = pd.read_csv(DATA_PATH_HEARTHSTONE + \"/train.csv\")\n",
    "df_test = pd.read_csv(DATA_PATH_HEARTHSTONE + \"/test.csv\")\n",
    "df_dev = pd.read_csv(DATA_PATH_HEARTHSTONE + '/dev.csv')"
   ]
  },
  {
   "cell_type": "code",
   "execution_count": 95,
   "id": "8ab6c7b0",
   "metadata": {},
   "outputs": [
    {
     "data": {
      "text/html": [
       "<div>\n",
       "<style scoped>\n",
       "    .dataframe tbody tr th:only-of-type {\n",
       "        vertical-align: middle;\n",
       "    }\n",
       "\n",
       "    .dataframe tbody tr th {\n",
       "        vertical-align: top;\n",
       "    }\n",
       "\n",
       "    .dataframe thead th {\n",
       "        text-align: right;\n",
       "    }\n",
       "</style>\n",
       "<table border=\"1\" class=\"dataframe\">\n",
       "  <thead>\n",
       "    <tr style=\"text-align: right;\">\n",
       "      <th></th>\n",
       "      <th>cardClass</th>\n",
       "      <th>health</th>\n",
       "      <th>id</th>\n",
       "      <th>name</th>\n",
       "      <th>set</th>\n",
       "      <th>attack</th>\n",
       "      <th>cost</th>\n",
       "      <th>rarity</th>\n",
       "      <th>artist</th>\n",
       "      <th>collectible</th>\n",
       "      <th>text</th>\n",
       "      <th>mechanics</th>\n",
       "      <th>race</th>\n",
       "      <th>Image Path</th>\n",
       "      <th>health_text</th>\n",
       "      <th>attack_text</th>\n",
       "      <th>cost_text</th>\n",
       "      <th>collectible_text</th>\n",
       "      <th>combined_text</th>\n",
       "    </tr>\n",
       "  </thead>\n",
       "  <tbody>\n",
       "    <tr>\n",
       "      <th>0</th>\n",
       "      <td>ROGUE</td>\n",
       "      <td>13</td>\n",
       "      <td>Story_06_Tethys</td>\n",
       "      <td>Fleet Admiral Tethys</td>\n",
       "      <td>DARKMOON_FAIRE</td>\n",
       "      <td>1</td>\n",
       "      <td>4</td>\n",
       "      <td>FREE</td>\n",
       "      <td>NaN</td>\n",
       "      <td>NaN</td>\n",
       "      <td>at the end of your turn deal 1 damage to all e...</td>\n",
       "      <td>['TRIGGER_VISUAL']</td>\n",
       "      <td>NONE_race</td>\n",
       "      <td>train_images/Story_06_Tethys.jpg</td>\n",
       "      <td>health: 13</td>\n",
       "      <td>attack: 1</td>\n",
       "      <td>cost: 4</td>\n",
       "      <td>collectible: no</td>\n",
       "      <td>rogue health: 13 darkmoon_faire attack: 1 cost...</td>\n",
       "    </tr>\n",
       "    <tr>\n",
       "      <th>1</th>\n",
       "      <td>NEUTRAL</td>\n",
       "      <td>5</td>\n",
       "      <td>EX1_016</td>\n",
       "      <td>Sylvanas Windrunner</td>\n",
       "      <td>EXPERT1</td>\n",
       "      <td>5</td>\n",
       "      <td>6</td>\n",
       "      <td>LEGENDARY</td>\n",
       "      <td>Glenn Rane</td>\n",
       "      <td>1.0</td>\n",
       "      <td>deathrattle take control of a random enemy minion</td>\n",
       "      <td>['DEATHRATTLE']</td>\n",
       "      <td>NONE_race</td>\n",
       "      <td>train_images/EX1_016.jpg</td>\n",
       "      <td>health: 5</td>\n",
       "      <td>attack: 5</td>\n",
       "      <td>cost: 6</td>\n",
       "      <td>collectible: yes</td>\n",
       "      <td>neutral health: 5 expert1 attack: 5 cost: 6 le...</td>\n",
       "    </tr>\n",
       "    <tr>\n",
       "      <th>2</th>\n",
       "      <td>NEUTRAL</td>\n",
       "      <td>15</td>\n",
       "      <td>Story_10_IcecrownObelisk</td>\n",
       "      <td>Icecrown Obelisk</td>\n",
       "      <td>STORMWIND</td>\n",
       "      <td>0</td>\n",
       "      <td>3</td>\n",
       "      <td>FREE</td>\n",
       "      <td>NaN</td>\n",
       "      <td>NaN</td>\n",
       "      <td>deathrattle gain control of this minion</td>\n",
       "      <td>['DEATHRATTLE']</td>\n",
       "      <td>NONE_race</td>\n",
       "      <td>train_images/Story_10_IcecrownObelisk.jpg</td>\n",
       "      <td>health: 15</td>\n",
       "      <td>attack: 0</td>\n",
       "      <td>cost: 3</td>\n",
       "      <td>collectible: no</td>\n",
       "      <td>neutral health: 15 stormwind attack: 0 cost: 3...</td>\n",
       "    </tr>\n",
       "    <tr>\n",
       "      <th>3</th>\n",
       "      <td>DRUID</td>\n",
       "      <td>5</td>\n",
       "      <td>CORE_CS3_012</td>\n",
       "      <td>Nordrassil Druid</td>\n",
       "      <td>PLACEHOLDER_202204</td>\n",
       "      <td>3</td>\n",
       "      <td>4</td>\n",
       "      <td>RARE</td>\n",
       "      <td>Dave Greco</td>\n",
       "      <td>1.0</td>\n",
       "      <td>battlecry the next spell you cast this turn co...</td>\n",
       "      <td>['BATTLECRY']</td>\n",
       "      <td>NONE_race</td>\n",
       "      <td>train_images/CORE_CS3_012.jpg</td>\n",
       "      <td>health: 5</td>\n",
       "      <td>attack: 3</td>\n",
       "      <td>cost: 4</td>\n",
       "      <td>collectible: yes</td>\n",
       "      <td>druid health: 5 placeholder_202204 attack: 3 c...</td>\n",
       "    </tr>\n",
       "    <tr>\n",
       "      <th>4</th>\n",
       "      <td>MAGE</td>\n",
       "      <td>7</td>\n",
       "      <td>BOM_09_Dawngrasp_008t</td>\n",
       "      <td>Dawngrasp</td>\n",
       "      <td>ALTERAC_VALLEY</td>\n",
       "      <td>1</td>\n",
       "      <td>1</td>\n",
       "      <td>FREE</td>\n",
       "      <td>NaN</td>\n",
       "      <td>NaN</td>\n",
       "      <td>freeze any character damaged by this minion re...</td>\n",
       "      <td>['FREEZE']</td>\n",
       "      <td>NONE_race</td>\n",
       "      <td>train_images/BOM_09_Dawngrasp_008t.jpg</td>\n",
       "      <td>health: 7</td>\n",
       "      <td>attack: 1</td>\n",
       "      <td>cost: 1</td>\n",
       "      <td>collectible: no</td>\n",
       "      <td>mage health: 7 alterac_valley attack: 1 cost: ...</td>\n",
       "    </tr>\n",
       "  </tbody>\n",
       "</table>\n",
       "</div>"
      ],
      "text/plain": [
       "  cardClass  health                        id                  name  \\\n",
       "0     ROGUE      13           Story_06_Tethys  Fleet Admiral Tethys   \n",
       "1   NEUTRAL       5                   EX1_016   Sylvanas Windrunner   \n",
       "2   NEUTRAL      15  Story_10_IcecrownObelisk      Icecrown Obelisk   \n",
       "3     DRUID       5              CORE_CS3_012      Nordrassil Druid   \n",
       "4      MAGE       7     BOM_09_Dawngrasp_008t             Dawngrasp   \n",
       "\n",
       "                  set  attack  cost     rarity      artist  collectible  \\\n",
       "0      DARKMOON_FAIRE       1     4       FREE         NaN          NaN   \n",
       "1             EXPERT1       5     6  LEGENDARY  Glenn Rane          1.0   \n",
       "2           STORMWIND       0     3       FREE         NaN          NaN   \n",
       "3  PLACEHOLDER_202204       3     4       RARE  Dave Greco          1.0   \n",
       "4      ALTERAC_VALLEY       1     1       FREE         NaN          NaN   \n",
       "\n",
       "                                                text           mechanics  \\\n",
       "0  at the end of your turn deal 1 damage to all e...  ['TRIGGER_VISUAL']   \n",
       "1  deathrattle take control of a random enemy minion     ['DEATHRATTLE']   \n",
       "2            deathrattle gain control of this minion     ['DEATHRATTLE']   \n",
       "3  battlecry the next spell you cast this turn co...       ['BATTLECRY']   \n",
       "4  freeze any character damaged by this minion re...          ['FREEZE']   \n",
       "\n",
       "        race                                 Image Path health_text  \\\n",
       "0  NONE_race           train_images/Story_06_Tethys.jpg  health: 13   \n",
       "1  NONE_race                   train_images/EX1_016.jpg   health: 5   \n",
       "2  NONE_race  train_images/Story_10_IcecrownObelisk.jpg  health: 15   \n",
       "3  NONE_race              train_images/CORE_CS3_012.jpg   health: 5   \n",
       "4  NONE_race     train_images/BOM_09_Dawngrasp_008t.jpg   health: 7   \n",
       "\n",
       "  attack_text cost_text  collectible_text  \\\n",
       "0   attack: 1   cost: 4   collectible: no   \n",
       "1   attack: 5   cost: 6  collectible: yes   \n",
       "2   attack: 0   cost: 3   collectible: no   \n",
       "3   attack: 3   cost: 4  collectible: yes   \n",
       "4   attack: 1   cost: 1   collectible: no   \n",
       "\n",
       "                                       combined_text  \n",
       "0  rogue health: 13 darkmoon_faire attack: 1 cost...  \n",
       "1  neutral health: 5 expert1 attack: 5 cost: 6 le...  \n",
       "2  neutral health: 15 stormwind attack: 0 cost: 3...  \n",
       "3  druid health: 5 placeholder_202204 attack: 3 c...  \n",
       "4  mage health: 7 alterac_valley attack: 1 cost: ...  "
      ]
     },
     "execution_count": 95,
     "metadata": {},
     "output_type": "execute_result"
    }
   ],
   "source": [
    "df.head()"
   ]
  },
  {
   "cell_type": "code",
   "execution_count": null,
   "id": "eb131053-c43f-499a-b134-c8ab66d686c8",
   "metadata": {},
   "outputs": [],
   "source": [
    "df.info()"
   ]
  },
  {
   "cell_type": "code",
   "execution_count": null,
   "id": "dc9827dd-334b-4711-9bb1-9f96d5591911",
   "metadata": {},
   "outputs": [],
   "source": [
    "df.shape"
   ]
  },
  {
   "cell_type": "code",
   "execution_count": null,
   "id": "2d0b9482-521c-44fe-b553-190fdebb5ab0",
   "metadata": {},
   "outputs": [],
   "source": [
    "df.isnull().sum()"
   ]
  },
  {
   "cell_type": "code",
   "execution_count": null,
   "id": "fbc42dc1-8505-4b9f-8a30-019dbeb3d5b8",
   "metadata": {},
   "outputs": [],
   "source": [
    "df['cardClass'].unique()"
   ]
  },
  {
   "cell_type": "code",
   "execution_count": null,
   "id": "e67a5c7e-9a4a-4967-8348-e050c7ceb9ec",
   "metadata": {},
   "outputs": [],
   "source": [
    "df['rarity'].unique()"
   ]
  },
  {
   "cell_type": "code",
   "execution_count": null,
   "id": "f216ece6-7764-46e9-8fb3-f0fdb5b4f905",
   "metadata": {},
   "outputs": [],
   "source": [
    "df['race'].unique()"
   ]
  },
  {
   "cell_type": "code",
   "execution_count": null,
   "id": "dee5604f-2cee-4bd8-8f78-7bce83ff61cf",
   "metadata": {},
   "outputs": [],
   "source": [
    "df[df['collectible'].isna()]"
   ]
  },
  {
   "cell_type": "code",
   "execution_count": null,
   "id": "573d6bff-cc69-4d7e-b795-6f8153eca2ab",
   "metadata": {},
   "outputs": [],
   "source": [
    "df[df['text'].isna()]"
   ]
  },
  {
   "cell_type": "code",
   "execution_count": null,
   "id": "f5d0ec1d-512e-4f87-a109-2b44114ddeaa",
   "metadata": {},
   "outputs": [],
   "source": [
    "df.head()"
   ]
  },
  {
   "cell_type": "code",
   "execution_count": null,
   "id": "4e1d34dd-ec35-4cd0-b4fb-0ef6555a6691",
   "metadata": {
    "scrolled": true
   },
   "outputs": [],
   "source": [
    "df['cardClass'].value_counts()"
   ]
  },
  {
   "cell_type": "code",
   "execution_count": null,
   "id": "2ea16bc5-43be-49f2-afac-1989aeefe5f3",
   "metadata": {},
   "outputs": [],
   "source": [
    "# Plot distribution of card classes\n",
    "fig = plt.figure(figsize=(12, 5))\n",
    "df['cardClass'].value_counts().plot(kind='bar')\n",
    "plt.title('Distribution of Card Classes')\n",
    "plt.xlabel('Card Class')\n",
    "plt.ylabel('Count')\n",
    "plt.show()"
   ]
  },
  {
   "cell_type": "code",
   "execution_count": null,
   "id": "51f64570-4f18-4b8c-9ecf-2ba7bf82c9ab",
   "metadata": {},
   "outputs": [],
   "source": [
    "grouped_counts = df.groupby(['cardClass', 'rarity']).size().unstack(fill_value=0)\n",
    "\n",
    "grouped_counts.plot(kind='bar', stacked=True, figsize=(12, 6))\n",
    "\n",
    "plt.xlabel('Card Class')\n",
    "plt.ylabel('Count')\n",
    "plt.title('Distribution of Rarities across Card Classes')\n",
    "\n",
    "plt.legend(title='Rarity')\n",
    "plt.grid(True)\n",
    "plt.show()"
   ]
  },
  {
   "cell_type": "code",
   "execution_count": null,
   "id": "0cf76489-df9a-4c9f-8252-78aaf5b19730",
   "metadata": {},
   "outputs": [],
   "source": [
    "grouped_counts = df.groupby(['cardClass', 'race']).size().unstack(fill_value=0)\n",
    "\n",
    "grouped_counts.plot(kind='bar', stacked=True, figsize=(12, 6))\n",
    "\n",
    "plt.xlabel('Card Class')\n",
    "plt.ylabel('Count')\n",
    "plt.title('Distribution of Rarities across Card Classes')\n",
    "\n",
    "plt.legend(title='Rarity')\n",
    "plt.grid(True)\n",
    "plt.show()"
   ]
  },
  {
   "cell_type": "code",
   "execution_count": null,
   "id": "548d5b38-c903-453f-a663-48d042565b94",
   "metadata": {},
   "outputs": [],
   "source": [
    "df.head()"
   ]
  },
  {
   "cell_type": "code",
   "execution_count": null,
   "id": "921afdf2-3eb3-4e0f-8f61-e5add1b9b295",
   "metadata": {},
   "outputs": [],
   "source": [
    "df['text'][1]"
   ]
  },
  {
   "cell_type": "code",
   "execution_count": 9,
   "id": "51da5d0d-9aac-4fc1-9345-569fa6056057",
   "metadata": {},
   "outputs": [],
   "source": [
    "def get_textual(column, value):\n",
    "    return column + \": \" + str(value)"
   ]
  },
  {
   "cell_type": "code",
   "execution_count": 10,
   "id": "eab7fd0f-f10e-4a5e-8269-fc20d36dbadb",
   "metadata": {},
   "outputs": [],
   "source": [
    "def get_collectible_text(value):\n",
    "    if pd.isna(value):\n",
    "        return \"collectible: no\"\n",
    "    return \"collectible: yes\""
   ]
  },
  {
   "cell_type": "code",
   "execution_count": 11,
   "id": "4c2233b8-7dc4-42cc-857e-7f0391505196",
   "metadata": {},
   "outputs": [],
   "source": [
    "def preprocess_sentence(sentence):\n",
    "    sentence = re.sub(r'<[^>]+>', '', sentence)\n",
    "    sentence = re.sub(r'[^\\w\\s]', '', sentence)\n",
    "    sentence = sentence.replace('\\n', ' ')\n",
    "    sentence = sentence.lower()\n",
    "    sentence = ' '.join(sentence.split())\n",
    "    return sentence"
   ]
  },
  {
   "cell_type": "code",
   "execution_count": 12,
   "id": "8e92854f",
   "metadata": {},
   "outputs": [],
   "source": [
    "def preprocess_df(df):\n",
    "    df['cardClass'] = df['cardClass'].fillna('')\n",
    "    df['health_text'] = df.apply(lambda x: get_textual('health', x['health']), axis=1)\n",
    "    df['attack_text'] = df.apply(lambda x: get_textual('attack', x['attack']), axis=1)\n",
    "    df['cost_text'] = df.apply(lambda x: get_textual('cost', x['cost']), axis=1)\n",
    "    df['collectible_text'] = df['collectible'].apply(get_collectible_text)\n",
    "    df['text'] = df['text'].fillna('')\n",
    "    df['text'] = df['text'].apply(preprocess_sentence)\n",
    "    df['combined_text'] = df['cardClass'].str.lower() + ' ' + df['health_text'] + ' ' + df['set'].str.lower() + ' ' + df['attack_text'] + ' ' + df['cost_text'] + ' ' + df['rarity'].str.lower() + ' ' + df['collectible_text'] + ' ' + df['text']\n",
    "    return df"
   ]
  },
  {
   "cell_type": "code",
   "execution_count": 13,
   "id": "a6f4193f",
   "metadata": {},
   "outputs": [
    {
     "data": {
      "text/html": [
       "<div>\n",
       "<style scoped>\n",
       "    .dataframe tbody tr th:only-of-type {\n",
       "        vertical-align: middle;\n",
       "    }\n",
       "\n",
       "    .dataframe tbody tr th {\n",
       "        vertical-align: top;\n",
       "    }\n",
       "\n",
       "    .dataframe thead th {\n",
       "        text-align: right;\n",
       "    }\n",
       "</style>\n",
       "<table border=\"1\" class=\"dataframe\">\n",
       "  <thead>\n",
       "    <tr style=\"text-align: right;\">\n",
       "      <th></th>\n",
       "      <th>cardClass</th>\n",
       "      <th>health</th>\n",
       "      <th>id</th>\n",
       "      <th>name</th>\n",
       "      <th>set</th>\n",
       "      <th>attack</th>\n",
       "      <th>cost</th>\n",
       "      <th>rarity</th>\n",
       "      <th>artist</th>\n",
       "      <th>collectible</th>\n",
       "      <th>text</th>\n",
       "      <th>mechanics</th>\n",
       "      <th>race</th>\n",
       "      <th>Image Path</th>\n",
       "      <th>health_text</th>\n",
       "      <th>attack_text</th>\n",
       "      <th>cost_text</th>\n",
       "      <th>collectible_text</th>\n",
       "      <th>combined_text</th>\n",
       "    </tr>\n",
       "  </thead>\n",
       "  <tbody>\n",
       "    <tr>\n",
       "      <th>0</th>\n",
       "      <td>ROGUE</td>\n",
       "      <td>13</td>\n",
       "      <td>Story_06_Tethys</td>\n",
       "      <td>Fleet Admiral Tethys</td>\n",
       "      <td>DARKMOON_FAIRE</td>\n",
       "      <td>1</td>\n",
       "      <td>4</td>\n",
       "      <td>FREE</td>\n",
       "      <td>NaN</td>\n",
       "      <td>NaN</td>\n",
       "      <td>at the end of your turn deal 1 damage to all e...</td>\n",
       "      <td>['TRIGGER_VISUAL']</td>\n",
       "      <td>NONE_race</td>\n",
       "      <td>train_images/Story_06_Tethys.jpg</td>\n",
       "      <td>health: 13</td>\n",
       "      <td>attack: 1</td>\n",
       "      <td>cost: 4</td>\n",
       "      <td>collectible: no</td>\n",
       "      <td>rogue health: 13 darkmoon_faire attack: 1 cost...</td>\n",
       "    </tr>\n",
       "    <tr>\n",
       "      <th>1</th>\n",
       "      <td>NEUTRAL</td>\n",
       "      <td>5</td>\n",
       "      <td>EX1_016</td>\n",
       "      <td>Sylvanas Windrunner</td>\n",
       "      <td>EXPERT1</td>\n",
       "      <td>5</td>\n",
       "      <td>6</td>\n",
       "      <td>LEGENDARY</td>\n",
       "      <td>Glenn Rane</td>\n",
       "      <td>1.0</td>\n",
       "      <td>deathrattle take control of a random enemy minion</td>\n",
       "      <td>['DEATHRATTLE']</td>\n",
       "      <td>NONE_race</td>\n",
       "      <td>train_images/EX1_016.jpg</td>\n",
       "      <td>health: 5</td>\n",
       "      <td>attack: 5</td>\n",
       "      <td>cost: 6</td>\n",
       "      <td>collectible: yes</td>\n",
       "      <td>neutral health: 5 expert1 attack: 5 cost: 6 le...</td>\n",
       "    </tr>\n",
       "    <tr>\n",
       "      <th>2</th>\n",
       "      <td>NEUTRAL</td>\n",
       "      <td>15</td>\n",
       "      <td>Story_10_IcecrownObelisk</td>\n",
       "      <td>Icecrown Obelisk</td>\n",
       "      <td>STORMWIND</td>\n",
       "      <td>0</td>\n",
       "      <td>3</td>\n",
       "      <td>FREE</td>\n",
       "      <td>NaN</td>\n",
       "      <td>NaN</td>\n",
       "      <td>deathrattle gain control of this minion</td>\n",
       "      <td>['DEATHRATTLE']</td>\n",
       "      <td>NONE_race</td>\n",
       "      <td>train_images/Story_10_IcecrownObelisk.jpg</td>\n",
       "      <td>health: 15</td>\n",
       "      <td>attack: 0</td>\n",
       "      <td>cost: 3</td>\n",
       "      <td>collectible: no</td>\n",
       "      <td>neutral health: 15 stormwind attack: 0 cost: 3...</td>\n",
       "    </tr>\n",
       "    <tr>\n",
       "      <th>3</th>\n",
       "      <td>DRUID</td>\n",
       "      <td>5</td>\n",
       "      <td>CORE_CS3_012</td>\n",
       "      <td>Nordrassil Druid</td>\n",
       "      <td>PLACEHOLDER_202204</td>\n",
       "      <td>3</td>\n",
       "      <td>4</td>\n",
       "      <td>RARE</td>\n",
       "      <td>Dave Greco</td>\n",
       "      <td>1.0</td>\n",
       "      <td>battlecry the next spell you cast this turn co...</td>\n",
       "      <td>['BATTLECRY']</td>\n",
       "      <td>NONE_race</td>\n",
       "      <td>train_images/CORE_CS3_012.jpg</td>\n",
       "      <td>health: 5</td>\n",
       "      <td>attack: 3</td>\n",
       "      <td>cost: 4</td>\n",
       "      <td>collectible: yes</td>\n",
       "      <td>druid health: 5 placeholder_202204 attack: 3 c...</td>\n",
       "    </tr>\n",
       "    <tr>\n",
       "      <th>4</th>\n",
       "      <td>MAGE</td>\n",
       "      <td>7</td>\n",
       "      <td>BOM_09_Dawngrasp_008t</td>\n",
       "      <td>Dawngrasp</td>\n",
       "      <td>ALTERAC_VALLEY</td>\n",
       "      <td>1</td>\n",
       "      <td>1</td>\n",
       "      <td>FREE</td>\n",
       "      <td>NaN</td>\n",
       "      <td>NaN</td>\n",
       "      <td>freeze any character damaged by this minion re...</td>\n",
       "      <td>['FREEZE']</td>\n",
       "      <td>NONE_race</td>\n",
       "      <td>train_images/BOM_09_Dawngrasp_008t.jpg</td>\n",
       "      <td>health: 7</td>\n",
       "      <td>attack: 1</td>\n",
       "      <td>cost: 1</td>\n",
       "      <td>collectible: no</td>\n",
       "      <td>mage health: 7 alterac_valley attack: 1 cost: ...</td>\n",
       "    </tr>\n",
       "  </tbody>\n",
       "</table>\n",
       "</div>"
      ],
      "text/plain": [
       "  cardClass  health                        id                  name  \\\n",
       "0     ROGUE      13           Story_06_Tethys  Fleet Admiral Tethys   \n",
       "1   NEUTRAL       5                   EX1_016   Sylvanas Windrunner   \n",
       "2   NEUTRAL      15  Story_10_IcecrownObelisk      Icecrown Obelisk   \n",
       "3     DRUID       5              CORE_CS3_012      Nordrassil Druid   \n",
       "4      MAGE       7     BOM_09_Dawngrasp_008t             Dawngrasp   \n",
       "\n",
       "                  set  attack  cost     rarity      artist  collectible  \\\n",
       "0      DARKMOON_FAIRE       1     4       FREE         NaN          NaN   \n",
       "1             EXPERT1       5     6  LEGENDARY  Glenn Rane          1.0   \n",
       "2           STORMWIND       0     3       FREE         NaN          NaN   \n",
       "3  PLACEHOLDER_202204       3     4       RARE  Dave Greco          1.0   \n",
       "4      ALTERAC_VALLEY       1     1       FREE         NaN          NaN   \n",
       "\n",
       "                                                text           mechanics  \\\n",
       "0  at the end of your turn deal 1 damage to all e...  ['TRIGGER_VISUAL']   \n",
       "1  deathrattle take control of a random enemy minion     ['DEATHRATTLE']   \n",
       "2            deathrattle gain control of this minion     ['DEATHRATTLE']   \n",
       "3  battlecry the next spell you cast this turn co...       ['BATTLECRY']   \n",
       "4  freeze any character damaged by this minion re...          ['FREEZE']   \n",
       "\n",
       "        race                                 Image Path health_text  \\\n",
       "0  NONE_race           train_images/Story_06_Tethys.jpg  health: 13   \n",
       "1  NONE_race                   train_images/EX1_016.jpg   health: 5   \n",
       "2  NONE_race  train_images/Story_10_IcecrownObelisk.jpg  health: 15   \n",
       "3  NONE_race              train_images/CORE_CS3_012.jpg   health: 5   \n",
       "4  NONE_race     train_images/BOM_09_Dawngrasp_008t.jpg   health: 7   \n",
       "\n",
       "  attack_text cost_text  collectible_text  \\\n",
       "0   attack: 1   cost: 4   collectible: no   \n",
       "1   attack: 5   cost: 6  collectible: yes   \n",
       "2   attack: 0   cost: 3   collectible: no   \n",
       "3   attack: 3   cost: 4  collectible: yes   \n",
       "4   attack: 1   cost: 1   collectible: no   \n",
       "\n",
       "                                       combined_text  \n",
       "0  rogue health: 13 darkmoon_faire attack: 1 cost...  \n",
       "1  neutral health: 5 expert1 attack: 5 cost: 6 le...  \n",
       "2  neutral health: 15 stormwind attack: 0 cost: 3...  \n",
       "3  druid health: 5 placeholder_202204 attack: 3 c...  \n",
       "4  mage health: 7 alterac_valley attack: 1 cost: ...  "
      ]
     },
     "execution_count": 13,
     "metadata": {},
     "output_type": "execute_result"
    }
   ],
   "source": [
    "df = preprocess_df(df.copy())\n",
    "df.head()"
   ]
  },
  {
   "cell_type": "code",
   "execution_count": 14,
   "id": "4cdd5a7f",
   "metadata": {},
   "outputs": [],
   "source": [
    "def encode_labels(labels, label_encoder):\n",
    "    labels = label_encoder.fit_transform(labels)\n",
    "    one_hot_labels = np.zeros((len(labels), 15))\n",
    "    one_hot_labels[np.arange(len(labels)), labels] = 1\n",
    "    return one_hot_labels"
   ]
  },
  {
   "cell_type": "code",
   "execution_count": 15,
   "id": "4c302625-2fd5-4ee3-89be-aac14ad01dbf",
   "metadata": {},
   "outputs": [],
   "source": [
    "label_encoder = LabelEncoder()\n",
    "labels = df['race']\n",
    "train_labels = encode_labels(labels, label_encoder)"
   ]
  },
  {
   "cell_type": "code",
   "execution_count": 16,
   "id": "8b59c1fb-05fe-46d4-abb4-83b5fd128a78",
   "metadata": {},
   "outputs": [
    {
     "data": {
      "text/plain": [
       "{'BEAST': 0,\n",
       " 'DEMON': 1,\n",
       " 'DRAGON': 2,\n",
       " 'ELEMENTAL': 3,\n",
       " 'HUMAN': 4,\n",
       " 'MECHANICAL': 5,\n",
       " 'MURLOC': 6,\n",
       " 'NAGA': 7,\n",
       " 'NONE_race': 8,\n",
       " 'OLDGOD': 9,\n",
       " 'ORC': 10,\n",
       " 'PIRATE': 11,\n",
       " 'QUILBOAR': 12,\n",
       " 'TAUREN': 13,\n",
       " 'TOTEM': 14}"
      ]
     },
     "execution_count": 16,
     "metadata": {},
     "output_type": "execute_result"
    }
   ],
   "source": [
    "class_mapping = dict(zip(label_encoder.classes_, label_encoder.transform(label_encoder.classes_)))\n",
    "class_mapping"
   ]
  },
  {
   "cell_type": "code",
   "execution_count": 17,
   "id": "3ed6bcd1-5c17-4c29-a8af-5ff452d08d53",
   "metadata": {},
   "outputs": [],
   "source": [
    "device = torch.device(\"cuda\" if torch.cuda.is_available() else \"cpu\")\n",
    "model, preprocess = clip.load(\"ViT-B/32\", device=device)"
   ]
  },
  {
   "cell_type": "code",
   "execution_count": 19,
   "id": "b26d7240-9fdf-4972-8ee0-2633c3a0284d",
   "metadata": {},
   "outputs": [],
   "source": [
    "def combine_image_text(texts, images, clip_model, clip_preprocess):\n",
    "    def segment_text_func(text, max_segment_length=100):\n",
    "        # Split text into segments of maximum length\n",
    "        segments = []\n",
    "        for i in range(0, len(text), max_segment_length):\n",
    "            segment = text[i:i + max_segment_length]\n",
    "            segments.append(segment)\n",
    "        return segments\n",
    "    \n",
    "    image_text = []\n",
    "    for idx in range(len(texts)):\n",
    "        text = texts[idx]\n",
    "        image = images[idx]\n",
    "        \n",
    "        # Process text in segments\n",
    "        segments = segment_text_func(text)\n",
    "        \n",
    "        # Encode each segment separately\n",
    "        segment_features = []\n",
    "        for segment in segments:\n",
    "            segment_text = clip.tokenize(segment).to(device)\n",
    "            with torch.no_grad():\n",
    "                segment_features.append(clip_model.encode_text(segment_text))\n",
    "        \n",
    "        # Aggregate segment representations\n",
    "        aggregated_text_features = aggregate_features(segment_features)\n",
    "        \n",
    "        # Preprocess image\n",
    "        image = clip_preprocess(Image.open(image)).unsqueeze(0).to(device)\n",
    "        \n",
    "        # Encode image\n",
    "        with torch.no_grad():\n",
    "            image_features = clip_model.encode_image(image)\n",
    "        \n",
    "        # Combine text and image features\n",
    "        combined_features = torch.cat((aggregated_text_features, image_features), 1)\n",
    "        image_text.append(combined_features)\n",
    "    return image_text\n",
    "\n",
    "def aggregate_features(features):\n",
    "    # Aggregate segment features (e.g., by averaging)\n",
    "    return torch.mean(torch.stack(features), dim=0)"
   ]
  },
  {
   "cell_type": "code",
   "execution_count": 20,
   "id": "10b0d05f",
   "metadata": {},
   "outputs": [
    {
     "name": "stderr",
     "output_type": "stream",
     "text": [
      "C:\\Users\\Felix\\anaconda3\\lib\\site-packages\\torch\\nn\\functional.py:5476: UserWarning: 1Torch was not compiled with flash attention. (Triggered internally at C:\\actions-runner\\_work\\pytorch\\pytorch\\builder\\windows\\pytorch\\aten\\src\\ATen\\native\\transformers\\cuda\\sdp_utils.cpp:263.)\n",
      "  attn_output = scaled_dot_product_attention(q, k, v, attn_mask, dropout_p, is_causal)\n"
     ]
    }
   ],
   "source": [
    "texts = list(df['combined_text'])\n",
    "images = [DATA_PATH_HEARTHSTONE + img for img in list(df['Image Path'])]\n",
    "data = combine_image_text(texts, images, model, preprocess)"
   ]
  },
  {
   "cell_type": "code",
   "execution_count": 29,
   "id": "06d670ea",
   "metadata": {},
   "outputs": [
    {
     "data": {
      "text/plain": [
       "tensor([[ 0.0847,  0.2734, -0.0474,  ...,  0.1588, -0.1272,  0.2756]],\n",
       "       device='cuda:0', dtype=torch.float16)"
      ]
     },
     "execution_count": 29,
     "metadata": {},
     "output_type": "execute_result"
    }
   ],
   "source": [
    "data[0]"
   ]
  },
  {
   "cell_type": "code",
   "execution_count": 21,
   "id": "a0ffdce3",
   "metadata": {},
   "outputs": [],
   "source": [
    "df_dev = preprocess_df(df_dev.copy())\n",
    "dev_labels = encode_labels(df_dev['race'], label_encoder)"
   ]
  },
  {
   "cell_type": "code",
   "execution_count": 22,
   "id": "3b3d82bb",
   "metadata": {},
   "outputs": [],
   "source": [
    "dev_texts = list(df_dev['combined_text'])\n",
    "dev_images = [DATA_PATH_HEARTHSTONE + img for img in list(df_dev['Image Path'])]\n",
    "data_dev = combine_image_text(dev_texts, dev_images, model, preprocess)"
   ]
  },
  {
   "cell_type": "code",
   "execution_count": 72,
   "id": "ad92820f-16f1-46dd-aa43-c7296da5f0ea",
   "metadata": {},
   "outputs": [],
   "source": [
    "class CustomDataset(Dataset):\n",
    "    def __init__(self, features, labels):\n",
    "        self.features = features\n",
    "        self.labels = labels\n",
    "\n",
    "    def __len__(self):\n",
    "        return len(self.features)\n",
    "\n",
    "    def __getitem__(self, idx):\n",
    "        feature = self.features[idx].clone().detach().to(torch.float32)\n",
    "        label = torch.tensor(self.labels[idx], dtype=torch.float32)\n",
    "        return feature, label"
   ]
  },
  {
   "cell_type": "code",
   "execution_count": 73,
   "id": "d34832e9-eba6-44ed-8b14-a6d6d1992c72",
   "metadata": {},
   "outputs": [],
   "source": [
    "class Model(nn.Module):\n",
    "    def __init__(self, input_size, hidden_size, num_classes):\n",
    "        super(Model, self).__init__()\n",
    "        self.fc_1 = nn.Linear(input_size, hidden_size)\n",
    "        self.fc_2 = nn.Linear(hidden_size, hidden_size)\n",
    "        self.fc_3 = nn.Linear(hidden_size, num_classes)\n",
    "        self.relu = nn.ReLU()\n",
    "        \n",
    "    def forward(self, x):\n",
    "        x = x.view(x.size(0), -1) \n",
    "        out = self.relu(self.fc_1(x))\n",
    "        out = self.relu(self.fc_2(out))\n",
    "        out = self.fc_3(out)\n",
    "        return out"
   ]
  },
  {
   "cell_type": "code",
   "execution_count": 74,
   "id": "8e8c8e48-b36f-478e-9361-b495d4e3843d",
   "metadata": {},
   "outputs": [],
   "source": [
    "input_size = data[0].size(1)\n",
    "hidden_size = 512\n",
    "num_classes = len(label_encoder.classes_)\n",
    "num_epochs = 15\n",
    "lr = 0.001\n",
    "batch_size = 8\n",
    "\n",
    "lin_model = Model(input_size, hidden_size, num_classes).to(device)\n",
    "optimizer = optim.Adam(lin_model.parameters(), lr=lr)\n",
    "criterion = nn.BCEWithLogitsLoss()"
   ]
  },
  {
   "cell_type": "code",
   "execution_count": 75,
   "id": "aab5fcfa-1a84-46cc-b246-060f2df672fe",
   "metadata": {},
   "outputs": [],
   "source": [
    "train_dataset = CustomDataset(data, train_labels)\n",
    "train_loader = DataLoader(train_dataset, batch_size=batch_size, shuffle=True)\n",
    "dev_dataset = CustomDataset(data_dev, dev_labels)\n",
    "dev_loader = DataLoader(dev_dataset, batch_size=batch_size, shuffle=True)"
   ]
  },
  {
   "cell_type": "code",
   "execution_count": 84,
   "id": "053cf1e8-e3d8-4f98-b1bb-be753364de6b",
   "metadata": {},
   "outputs": [],
   "source": [
    "def train():\n",
    "    for epoch in range(num_epochs):\n",
    "        total_loss = 0.0\n",
    "        for feature, label in train_loader:\n",
    "            lin_model.train()\n",
    "            feature = feature.to(device)\n",
    "            label = label.to(device)\n",
    "            output = lin_model(feature)\n",
    "            loss = criterion(output, label)\n",
    "\n",
    "            optimizer.zero_grad()\n",
    "            loss.backward()\n",
    "            optimizer.step()\n",
    "\n",
    "            total_loss += loss.item()\n",
    "            \n",
    "            lin_model.eval()\n",
    "            with torch.no_grad():\n",
    "                val_loss = 0.0\n",
    "                for dev_feature, dev_labels in dev_loader:\n",
    "                    dev_feature = dev_feature.to(device)\n",
    "                    dev_labels = dev_labels.to(device)\n",
    "                    output = lin_model(dev_feature)\n",
    "                    dev_loss = criterion(output, dev_labels)\n",
    "                    val_loss += dev_loss.item()\n",
    "        train_loss = total_loss / len(train_loader)\n",
    "        val_loss /= len(dev_loader)\n",
    "\n",
    "        print(f\"Epoch [{epoch+1}/{num_epochs}]\")\n",
    "        print(f\"  Train Loss: {train_loss:.4f}\")\n",
    "        print(f\"  Validation Loss: {val_loss:.4f}\")"
   ]
  },
  {
   "cell_type": "code",
   "execution_count": 85,
   "id": "11d673cf-0009-4e34-a9c4-2d9fd34c8d13",
   "metadata": {},
   "outputs": [
    {
     "name": "stderr",
     "output_type": "stream",
     "text": [
      "100%|████████████████████████████████████████████████████████████████████████████████| 675/675 [00:46<00:00, 14.61it/s]\n",
      "  0%|                                                                                  | 1/675 [00:00<01:16,  8.80it/s]"
     ]
    },
    {
     "name": "stdout",
     "output_type": "stream",
     "text": [
      "Epoch [1/15]\n",
      "  Train Loss: 0.0696\n",
      "  Validation Loss: 0.0838\n"
     ]
    },
    {
     "name": "stderr",
     "output_type": "stream",
     "text": [
      "100%|████████████████████████████████████████████████████████████████████████████████| 675/675 [01:12<00:00,  9.29it/s]\n",
      "  0%|                                                                                  | 1/675 [00:00<01:07,  9.96it/s]"
     ]
    },
    {
     "name": "stdout",
     "output_type": "stream",
     "text": [
      "Epoch [2/15]\n",
      "  Train Loss: 0.0537\n",
      "  Validation Loss: 0.0755\n"
     ]
    },
    {
     "name": "stderr",
     "output_type": "stream",
     "text": [
      "100%|████████████████████████████████████████████████████████████████████████████████| 675/675 [01:08<00:00,  9.83it/s]\n",
      "  0%|                                                                                  | 1/675 [00:00<01:09,  9.67it/s]"
     ]
    },
    {
     "name": "stdout",
     "output_type": "stream",
     "text": [
      "Epoch [3/15]\n",
      "  Train Loss: 0.0436\n",
      "  Validation Loss: 0.0940\n"
     ]
    },
    {
     "name": "stderr",
     "output_type": "stream",
     "text": [
      "100%|████████████████████████████████████████████████████████████████████████████████| 675/675 [01:08<00:00,  9.87it/s]\n",
      "  0%|                                                                                  | 1/675 [00:00<01:14,  9.07it/s]"
     ]
    },
    {
     "name": "stdout",
     "output_type": "stream",
     "text": [
      "Epoch [4/15]\n",
      "  Train Loss: 0.0350\n",
      "  Validation Loss: 0.0823\n"
     ]
    },
    {
     "name": "stderr",
     "output_type": "stream",
     "text": [
      "100%|████████████████████████████████████████████████████████████████████████████████| 675/675 [01:19<00:00,  8.44it/s]\n",
      "  0%|                                                                                  | 1/675 [00:00<01:23,  8.05it/s]"
     ]
    },
    {
     "name": "stdout",
     "output_type": "stream",
     "text": [
      "Epoch [5/15]\n",
      "  Train Loss: 0.0269\n",
      "  Validation Loss: 0.0913\n"
     ]
    },
    {
     "name": "stderr",
     "output_type": "stream",
     "text": [
      "100%|████████████████████████████████████████████████████████████████████████████████| 675/675 [01:23<00:00,  8.08it/s]\n",
      "  0%|                                                                                  | 1/675 [00:00<01:20,  8.36it/s]"
     ]
    },
    {
     "name": "stdout",
     "output_type": "stream",
     "text": [
      "Epoch [6/15]\n",
      "  Train Loss: 0.0207\n",
      "  Validation Loss: 0.1163\n"
     ]
    },
    {
     "name": "stderr",
     "output_type": "stream",
     "text": [
      "100%|████████████████████████████████████████████████████████████████████████████████| 675/675 [01:23<00:00,  8.09it/s]\n",
      "  0%|                                                                                  | 1/675 [00:00<01:16,  8.75it/s]"
     ]
    },
    {
     "name": "stdout",
     "output_type": "stream",
     "text": [
      "Epoch [7/15]\n",
      "  Train Loss: 0.0184\n",
      "  Validation Loss: 0.1003\n"
     ]
    },
    {
     "name": "stderr",
     "output_type": "stream",
     "text": [
      "100%|████████████████████████████████████████████████████████████████████████████████| 675/675 [01:21<00:00,  8.26it/s]\n",
      "  0%|                                                                                  | 1/675 [00:00<01:26,  7.77it/s]"
     ]
    },
    {
     "name": "stdout",
     "output_type": "stream",
     "text": [
      "Epoch [8/15]\n",
      "  Train Loss: 0.0136\n",
      "  Validation Loss: 0.1146\n"
     ]
    },
    {
     "name": "stderr",
     "output_type": "stream",
     "text": [
      "100%|████████████████████████████████████████████████████████████████████████████████| 675/675 [01:24<00:00,  7.98it/s]\n",
      "  0%|                                                                                  | 1/675 [00:00<01:21,  8.29it/s]"
     ]
    },
    {
     "name": "stdout",
     "output_type": "stream",
     "text": [
      "Epoch [9/15]\n",
      "  Train Loss: 0.0112\n",
      "  Validation Loss: 0.1498\n"
     ]
    },
    {
     "name": "stderr",
     "output_type": "stream",
     "text": [
      "100%|████████████████████████████████████████████████████████████████████████████████| 675/675 [01:22<00:00,  8.16it/s]\n",
      "  0%|                                                                                  | 1/675 [00:00<01:25,  7.88it/s]"
     ]
    },
    {
     "name": "stdout",
     "output_type": "stream",
     "text": [
      "Epoch [10/15]\n",
      "  Train Loss: 0.0096\n",
      "  Validation Loss: 0.1060\n"
     ]
    },
    {
     "name": "stderr",
     "output_type": "stream",
     "text": [
      "100%|████████████████████████████████████████████████████████████████████████████████| 675/675 [01:22<00:00,  8.17it/s]\n",
      "  0%|                                                                                  | 1/675 [00:00<01:22,  8.17it/s]"
     ]
    },
    {
     "name": "stdout",
     "output_type": "stream",
     "text": [
      "Epoch [11/15]\n",
      "  Train Loss: 0.0101\n",
      "  Validation Loss: 0.1059\n"
     ]
    },
    {
     "name": "stderr",
     "output_type": "stream",
     "text": [
      " 95%|████████████████████████████████████████████████████████████████████████████▎   | 644/675 [01:18<00:03,  8.21it/s]\n"
     ]
    },
    {
     "ename": "KeyboardInterrupt",
     "evalue": "",
     "output_type": "error",
     "traceback": [
      "\u001b[1;31m---------------------------------------------------------------------------\u001b[0m",
      "\u001b[1;31mKeyboardInterrupt\u001b[0m                         Traceback (most recent call last)",
      "\u001b[1;32m<ipython-input-85-2da0ffaf5447>\u001b[0m in \u001b[0;36m<module>\u001b[1;34m\u001b[0m\n\u001b[1;32m----> 1\u001b[1;33m \u001b[0mtrain\u001b[0m\u001b[1;33m(\u001b[0m\u001b[1;33m)\u001b[0m\u001b[1;33m\u001b[0m\u001b[1;33m\u001b[0m\u001b[0m\n\u001b[0m",
      "\u001b[1;32m<ipython-input-84-4637609c6a6d>\u001b[0m in \u001b[0;36mtrain\u001b[1;34m()\u001b[0m\n\u001b[0;32m     22\u001b[0m                     \u001b[0mdev_labels\u001b[0m \u001b[1;33m=\u001b[0m \u001b[0mdev_labels\u001b[0m\u001b[1;33m.\u001b[0m\u001b[0mto\u001b[0m\u001b[1;33m(\u001b[0m\u001b[0mdevice\u001b[0m\u001b[1;33m)\u001b[0m\u001b[1;33m\u001b[0m\u001b[1;33m\u001b[0m\u001b[0m\n\u001b[0;32m     23\u001b[0m                     \u001b[0moutput\u001b[0m \u001b[1;33m=\u001b[0m \u001b[0mlin_model\u001b[0m\u001b[1;33m(\u001b[0m\u001b[0mdev_feature\u001b[0m\u001b[1;33m)\u001b[0m\u001b[1;33m\u001b[0m\u001b[1;33m\u001b[0m\u001b[0m\n\u001b[1;32m---> 24\u001b[1;33m                     \u001b[0mdev_loss\u001b[0m \u001b[1;33m=\u001b[0m \u001b[0mcriterion\u001b[0m\u001b[1;33m(\u001b[0m\u001b[0moutput\u001b[0m\u001b[1;33m,\u001b[0m \u001b[0mdev_labels\u001b[0m\u001b[1;33m)\u001b[0m\u001b[1;33m\u001b[0m\u001b[1;33m\u001b[0m\u001b[0m\n\u001b[0m\u001b[0;32m     25\u001b[0m                     \u001b[0mval_loss\u001b[0m \u001b[1;33m+=\u001b[0m \u001b[0mdev_loss\u001b[0m\u001b[1;33m.\u001b[0m\u001b[0mitem\u001b[0m\u001b[1;33m(\u001b[0m\u001b[1;33m)\u001b[0m\u001b[1;33m\u001b[0m\u001b[1;33m\u001b[0m\u001b[0m\n\u001b[0;32m     26\u001b[0m         \u001b[0mtrain_loss\u001b[0m \u001b[1;33m=\u001b[0m \u001b[0mtotal_loss\u001b[0m \u001b[1;33m/\u001b[0m \u001b[0mlen\u001b[0m\u001b[1;33m(\u001b[0m\u001b[0mtrain_loader\u001b[0m\u001b[1;33m)\u001b[0m\u001b[1;33m\u001b[0m\u001b[1;33m\u001b[0m\u001b[0m\n",
      "\u001b[1;32m~\\anaconda3\\lib\\site-packages\\torch\\nn\\modules\\module.py\u001b[0m in \u001b[0;36m_wrapped_call_impl\u001b[1;34m(self, *args, **kwargs)\u001b[0m\n\u001b[0;32m   1509\u001b[0m             \u001b[1;32mreturn\u001b[0m \u001b[0mself\u001b[0m\u001b[1;33m.\u001b[0m\u001b[0m_compiled_call_impl\u001b[0m\u001b[1;33m(\u001b[0m\u001b[1;33m*\u001b[0m\u001b[0margs\u001b[0m\u001b[1;33m,\u001b[0m \u001b[1;33m**\u001b[0m\u001b[0mkwargs\u001b[0m\u001b[1;33m)\u001b[0m  \u001b[1;31m# type: ignore[misc]\u001b[0m\u001b[1;33m\u001b[0m\u001b[1;33m\u001b[0m\u001b[0m\n\u001b[0;32m   1510\u001b[0m         \u001b[1;32melse\u001b[0m\u001b[1;33m:\u001b[0m\u001b[1;33m\u001b[0m\u001b[1;33m\u001b[0m\u001b[0m\n\u001b[1;32m-> 1511\u001b[1;33m             \u001b[1;32mreturn\u001b[0m \u001b[0mself\u001b[0m\u001b[1;33m.\u001b[0m\u001b[0m_call_impl\u001b[0m\u001b[1;33m(\u001b[0m\u001b[1;33m*\u001b[0m\u001b[0margs\u001b[0m\u001b[1;33m,\u001b[0m \u001b[1;33m**\u001b[0m\u001b[0mkwargs\u001b[0m\u001b[1;33m)\u001b[0m\u001b[1;33m\u001b[0m\u001b[1;33m\u001b[0m\u001b[0m\n\u001b[0m\u001b[0;32m   1512\u001b[0m \u001b[1;33m\u001b[0m\u001b[0m\n\u001b[0;32m   1513\u001b[0m     \u001b[1;32mdef\u001b[0m \u001b[0m_call_impl\u001b[0m\u001b[1;33m(\u001b[0m\u001b[0mself\u001b[0m\u001b[1;33m,\u001b[0m \u001b[1;33m*\u001b[0m\u001b[0margs\u001b[0m\u001b[1;33m,\u001b[0m \u001b[1;33m**\u001b[0m\u001b[0mkwargs\u001b[0m\u001b[1;33m)\u001b[0m\u001b[1;33m:\u001b[0m\u001b[1;33m\u001b[0m\u001b[1;33m\u001b[0m\u001b[0m\n",
      "\u001b[1;32m~\\anaconda3\\lib\\site-packages\\torch\\nn\\modules\\module.py\u001b[0m in \u001b[0;36m_call_impl\u001b[1;34m(self, *args, **kwargs)\u001b[0m\n\u001b[0;32m   1518\u001b[0m                 \u001b[1;32mor\u001b[0m \u001b[0m_global_backward_pre_hooks\u001b[0m \u001b[1;32mor\u001b[0m \u001b[0m_global_backward_hooks\u001b[0m\u001b[1;33m\u001b[0m\u001b[1;33m\u001b[0m\u001b[0m\n\u001b[0;32m   1519\u001b[0m                 or _global_forward_hooks or _global_forward_pre_hooks):\n\u001b[1;32m-> 1520\u001b[1;33m             \u001b[1;32mreturn\u001b[0m \u001b[0mforward_call\u001b[0m\u001b[1;33m(\u001b[0m\u001b[1;33m*\u001b[0m\u001b[0margs\u001b[0m\u001b[1;33m,\u001b[0m \u001b[1;33m**\u001b[0m\u001b[0mkwargs\u001b[0m\u001b[1;33m)\u001b[0m\u001b[1;33m\u001b[0m\u001b[1;33m\u001b[0m\u001b[0m\n\u001b[0m\u001b[0;32m   1521\u001b[0m \u001b[1;33m\u001b[0m\u001b[0m\n\u001b[0;32m   1522\u001b[0m         \u001b[1;32mtry\u001b[0m\u001b[1;33m:\u001b[0m\u001b[1;33m\u001b[0m\u001b[1;33m\u001b[0m\u001b[0m\n",
      "\u001b[1;32m~\\anaconda3\\lib\\site-packages\\torch\\nn\\modules\\loss.py\u001b[0m in \u001b[0;36mforward\u001b[1;34m(self, input, target)\u001b[0m\n\u001b[0;32m    723\u001b[0m \u001b[1;33m\u001b[0m\u001b[0m\n\u001b[0;32m    724\u001b[0m     \u001b[1;32mdef\u001b[0m \u001b[0mforward\u001b[0m\u001b[1;33m(\u001b[0m\u001b[0mself\u001b[0m\u001b[1;33m,\u001b[0m \u001b[0minput\u001b[0m\u001b[1;33m:\u001b[0m \u001b[0mTensor\u001b[0m\u001b[1;33m,\u001b[0m \u001b[0mtarget\u001b[0m\u001b[1;33m:\u001b[0m \u001b[0mTensor\u001b[0m\u001b[1;33m)\u001b[0m \u001b[1;33m->\u001b[0m \u001b[0mTensor\u001b[0m\u001b[1;33m:\u001b[0m\u001b[1;33m\u001b[0m\u001b[1;33m\u001b[0m\u001b[0m\n\u001b[1;32m--> 725\u001b[1;33m         return F.binary_cross_entropy_with_logits(input, target,\n\u001b[0m\u001b[0;32m    726\u001b[0m                                                   \u001b[0mself\u001b[0m\u001b[1;33m.\u001b[0m\u001b[0mweight\u001b[0m\u001b[1;33m,\u001b[0m\u001b[1;33m\u001b[0m\u001b[1;33m\u001b[0m\u001b[0m\n\u001b[0;32m    727\u001b[0m                                                   \u001b[0mpos_weight\u001b[0m\u001b[1;33m=\u001b[0m\u001b[0mself\u001b[0m\u001b[1;33m.\u001b[0m\u001b[0mpos_weight\u001b[0m\u001b[1;33m,\u001b[0m\u001b[1;33m\u001b[0m\u001b[1;33m\u001b[0m\u001b[0m\n",
      "\u001b[1;32m~\\anaconda3\\lib\\site-packages\\torch\\nn\\functional.py\u001b[0m in \u001b[0;36mbinary_cross_entropy_with_logits\u001b[1;34m(input, target, weight, size_average, reduce, reduction, pos_weight)\u001b[0m\n\u001b[0;32m   3197\u001b[0m         \u001b[1;32mraise\u001b[0m \u001b[0mValueError\u001b[0m\u001b[1;33m(\u001b[0m\u001b[1;34mf\"Target size ({target.size()}) must be the same as input size ({input.size()})\"\u001b[0m\u001b[1;33m)\u001b[0m\u001b[1;33m\u001b[0m\u001b[1;33m\u001b[0m\u001b[0m\n\u001b[0;32m   3198\u001b[0m \u001b[1;33m\u001b[0m\u001b[0m\n\u001b[1;32m-> 3199\u001b[1;33m     \u001b[1;32mreturn\u001b[0m \u001b[0mtorch\u001b[0m\u001b[1;33m.\u001b[0m\u001b[0mbinary_cross_entropy_with_logits\u001b[0m\u001b[1;33m(\u001b[0m\u001b[0minput\u001b[0m\u001b[1;33m,\u001b[0m \u001b[0mtarget\u001b[0m\u001b[1;33m,\u001b[0m \u001b[0mweight\u001b[0m\u001b[1;33m,\u001b[0m \u001b[0mpos_weight\u001b[0m\u001b[1;33m,\u001b[0m \u001b[0mreduction_enum\u001b[0m\u001b[1;33m)\u001b[0m\u001b[1;33m\u001b[0m\u001b[1;33m\u001b[0m\u001b[0m\n\u001b[0m\u001b[0;32m   3200\u001b[0m \u001b[1;33m\u001b[0m\u001b[0m\n\u001b[0;32m   3201\u001b[0m \u001b[1;33m\u001b[0m\u001b[0m\n",
      "\u001b[1;31mKeyboardInterrupt\u001b[0m: "
     ]
    }
   ],
   "source": [
    "train()"
   ]
  },
  {
   "cell_type": "code",
   "execution_count": 58,
   "id": "4f043e1f",
   "metadata": {},
   "outputs": [
    {
     "data": {
      "text/html": [
       "<div>\n",
       "<style scoped>\n",
       "    .dataframe tbody tr th:only-of-type {\n",
       "        vertical-align: middle;\n",
       "    }\n",
       "\n",
       "    .dataframe tbody tr th {\n",
       "        vertical-align: top;\n",
       "    }\n",
       "\n",
       "    .dataframe thead th {\n",
       "        text-align: right;\n",
       "    }\n",
       "</style>\n",
       "<table border=\"1\" class=\"dataframe\">\n",
       "  <thead>\n",
       "    <tr style=\"text-align: right;\">\n",
       "      <th></th>\n",
       "      <th>cardClass</th>\n",
       "      <th>health</th>\n",
       "      <th>id</th>\n",
       "      <th>name</th>\n",
       "      <th>set</th>\n",
       "      <th>attack</th>\n",
       "      <th>cost</th>\n",
       "      <th>rarity</th>\n",
       "      <th>artist</th>\n",
       "      <th>collectible</th>\n",
       "      <th>text</th>\n",
       "      <th>mechanics</th>\n",
       "      <th>race</th>\n",
       "      <th>Image Path</th>\n",
       "      <th>health_text</th>\n",
       "      <th>attack_text</th>\n",
       "      <th>cost_text</th>\n",
       "      <th>collectible_text</th>\n",
       "      <th>combined_text</th>\n",
       "    </tr>\n",
       "  </thead>\n",
       "  <tbody>\n",
       "    <tr>\n",
       "      <th>0</th>\n",
       "      <td>ROGUE</td>\n",
       "      <td>3</td>\n",
       "      <td>EX1_191</td>\n",
       "      <td>Plaguebringer</td>\n",
       "      <td>LEGACY</td>\n",
       "      <td>3</td>\n",
       "      <td>4</td>\n",
       "      <td>FREE</td>\n",
       "      <td>J. Axer</td>\n",
       "      <td>1.0</td>\n",
       "      <td>battlecry give a friendly minion poisonous</td>\n",
       "      <td>['BATTLECRY']</td>\n",
       "      <td>NONE_race</td>\n",
       "      <td>test_images/EX1_191.jpg</td>\n",
       "      <td>health: 3</td>\n",
       "      <td>attack: 3</td>\n",
       "      <td>cost: 4</td>\n",
       "      <td>collectible: yes</td>\n",
       "      <td>rogue health: 3 legacy attack: 3 cost: 4 free ...</td>\n",
       "    </tr>\n",
       "    <tr>\n",
       "      <th>1</th>\n",
       "      <td>PRIEST</td>\n",
       "      <td>3</td>\n",
       "      <td>REV_246</td>\n",
       "      <td>Mysterious Visitor</td>\n",
       "      <td>REVENDRETH</td>\n",
       "      <td>2</td>\n",
       "      <td>2</td>\n",
       "      <td>EPIC</td>\n",
       "      <td>Arthur Bozonnet</td>\n",
       "      <td>1.0</td>\n",
       "      <td>battlecry reduce the cost of cards copied from...</td>\n",
       "      <td>['BATTLECRY']</td>\n",
       "      <td>NONE_race</td>\n",
       "      <td>test_images/REV_246.jpg</td>\n",
       "      <td>health: 3</td>\n",
       "      <td>attack: 2</td>\n",
       "      <td>cost: 2</td>\n",
       "      <td>collectible: yes</td>\n",
       "      <td>priest health: 3 revendreth attack: 2 cost: 2 ...</td>\n",
       "    </tr>\n",
       "    <tr>\n",
       "      <th>2</th>\n",
       "      <td>PRIEST</td>\n",
       "      <td>1</td>\n",
       "      <td>CRED_98</td>\n",
       "      <td>Giovanni Scarpati</td>\n",
       "      <td>CREDITS</td>\n",
       "      <td>3</td>\n",
       "      <td>7</td>\n",
       "      <td>LEGENDARY</td>\n",
       "      <td>NaN</td>\n",
       "      <td>NaN</td>\n",
       "      <td>xdivine shield divine shield divine shield div...</td>\n",
       "      <td>NaN</td>\n",
       "      <td>NONE_race</td>\n",
       "      <td>test_images/CRED_98.jpg</td>\n",
       "      <td>health: 1</td>\n",
       "      <td>attack: 3</td>\n",
       "      <td>cost: 7</td>\n",
       "      <td>collectible: no</td>\n",
       "      <td>priest health: 1 credits attack: 3 cost: 7 leg...</td>\n",
       "    </tr>\n",
       "    <tr>\n",
       "      <th>3</th>\n",
       "      <td>NEUTRAL</td>\n",
       "      <td>3</td>\n",
       "      <td>Prologue_UnstableEnergy3</td>\n",
       "      <td>Fel Unstable Energy</td>\n",
       "      <td>BLACK_TEMPLE</td>\n",
       "      <td>5</td>\n",
       "      <td>3</td>\n",
       "      <td>FREE</td>\n",
       "      <td>NaN</td>\n",
       "      <td>NaN</td>\n",
       "      <td>cant attack deathrattle deal 2 damage to all m...</td>\n",
       "      <td>['CANT_ATTACK', 'DEATHRATTLE']</td>\n",
       "      <td>NONE_race</td>\n",
       "      <td>test_images/Prologue_UnstableEnergy3.jpg</td>\n",
       "      <td>health: 3</td>\n",
       "      <td>attack: 5</td>\n",
       "      <td>cost: 3</td>\n",
       "      <td>collectible: no</td>\n",
       "      <td>neutral health: 3 black_temple attack: 5 cost:...</td>\n",
       "    </tr>\n",
       "    <tr>\n",
       "      <th>4</th>\n",
       "      <td>PALADIN</td>\n",
       "      <td>5</td>\n",
       "      <td>TRLA_138</td>\n",
       "      <td>Shirvallah's Grace</td>\n",
       "      <td>TROLL</td>\n",
       "      <td>0</td>\n",
       "      <td>0</td>\n",
       "      <td>FREE</td>\n",
       "      <td>Danny Dai</td>\n",
       "      <td>NaN</td>\n",
       "      <td>xshrine after you cast a spell on a friendly m...</td>\n",
       "      <td>['TRIGGER_VISUAL', 'InvisibleDeathrattle']</td>\n",
       "      <td>NONE_race</td>\n",
       "      <td>test_images/TRLA_138.jpg</td>\n",
       "      <td>health: 5</td>\n",
       "      <td>attack: 0</td>\n",
       "      <td>cost: 0</td>\n",
       "      <td>collectible: no</td>\n",
       "      <td>paladin health: 5 troll attack: 0 cost: 0 free...</td>\n",
       "    </tr>\n",
       "  </tbody>\n",
       "</table>\n",
       "</div>"
      ],
      "text/plain": [
       "  cardClass  health                        id                 name  \\\n",
       "0     ROGUE       3                   EX1_191        Plaguebringer   \n",
       "1    PRIEST       3                   REV_246   Mysterious Visitor   \n",
       "2    PRIEST       1                   CRED_98    Giovanni Scarpati   \n",
       "3   NEUTRAL       3  Prologue_UnstableEnergy3  Fel Unstable Energy   \n",
       "4   PALADIN       5                  TRLA_138   Shirvallah's Grace   \n",
       "\n",
       "            set  attack  cost     rarity           artist  collectible  \\\n",
       "0        LEGACY       3     4       FREE          J. Axer          1.0   \n",
       "1    REVENDRETH       2     2       EPIC  Arthur Bozonnet          1.0   \n",
       "2       CREDITS       3     7  LEGENDARY              NaN          NaN   \n",
       "3  BLACK_TEMPLE       5     3       FREE              NaN          NaN   \n",
       "4         TROLL       0     0       FREE        Danny Dai          NaN   \n",
       "\n",
       "                                                text  \\\n",
       "0         battlecry give a friendly minion poisonous   \n",
       "1  battlecry reduce the cost of cards copied from...   \n",
       "2  xdivine shield divine shield divine shield div...   \n",
       "3  cant attack deathrattle deal 2 damage to all m...   \n",
       "4  xshrine after you cast a spell on a friendly m...   \n",
       "\n",
       "                                    mechanics       race  \\\n",
       "0                               ['BATTLECRY']  NONE_race   \n",
       "1                               ['BATTLECRY']  NONE_race   \n",
       "2                                         NaN  NONE_race   \n",
       "3              ['CANT_ATTACK', 'DEATHRATTLE']  NONE_race   \n",
       "4  ['TRIGGER_VISUAL', 'InvisibleDeathrattle']  NONE_race   \n",
       "\n",
       "                                 Image Path health_text attack_text cost_text  \\\n",
       "0                   test_images/EX1_191.jpg   health: 3   attack: 3   cost: 4   \n",
       "1                   test_images/REV_246.jpg   health: 3   attack: 2   cost: 2   \n",
       "2                   test_images/CRED_98.jpg   health: 1   attack: 3   cost: 7   \n",
       "3  test_images/Prologue_UnstableEnergy3.jpg   health: 3   attack: 5   cost: 3   \n",
       "4                  test_images/TRLA_138.jpg   health: 5   attack: 0   cost: 0   \n",
       "\n",
       "   collectible_text                                      combined_text  \n",
       "0  collectible: yes  rogue health: 3 legacy attack: 3 cost: 4 free ...  \n",
       "1  collectible: yes  priest health: 3 revendreth attack: 2 cost: 2 ...  \n",
       "2   collectible: no  priest health: 1 credits attack: 3 cost: 7 leg...  \n",
       "3   collectible: no  neutral health: 3 black_temple attack: 5 cost:...  \n",
       "4   collectible: no  paladin health: 5 troll attack: 0 cost: 0 free...  "
      ]
     },
     "execution_count": 58,
     "metadata": {},
     "output_type": "execute_result"
    }
   ],
   "source": [
    "df_test = preprocess_df(df_test.copy())\n",
    "df_test.head()"
   ]
  },
  {
   "cell_type": "code",
   "execution_count": 61,
   "id": "ee56d890",
   "metadata": {},
   "outputs": [],
   "source": [
    "test_labels = df_test['race']\n",
    "test_labels = encode_labels(test_labels, label_encoder)"
   ]
  },
  {
   "cell_type": "code",
   "execution_count": 63,
   "id": "e719f35c",
   "metadata": {},
   "outputs": [],
   "source": [
    "texts = list(df_test['combined_text'])\n",
    "images = [DATA_PATH_HEARTHSTONE + img for img in list(df_test['Image Path'])]\n",
    "test_data = combine_image_text(texts, images, model, preprocess)"
   ]
  },
  {
   "cell_type": "code",
   "execution_count": 88,
   "id": "1d8ec5bd",
   "metadata": {},
   "outputs": [],
   "source": [
    "test_dataset = CustomDataset(test_data, test_labels)\n",
    "test_loader = DataLoader(test_dataset, batch_size=batch_size)"
   ]
  },
  {
   "cell_type": "code",
   "execution_count": 96,
   "id": "b1f34d55-da1d-4501-b319-46183ec85d95",
   "metadata": {},
   "outputs": [],
   "source": [
    "def evaluate(model, test_loader):\n",
    "    total_accuracy = 0.0\n",
    "    with torch.no_grad():\n",
    "        for feature, label in test_loader:\n",
    "            print('feature:', feature)\n",
    "            feature = feature.to(device)\n",
    "            output = model(feature).cpu().numpy()\n",
    "            print('output:', output)\n",
    "            pred = np.array([np.argmax(out) for out in output])\n",
    "            label = label.cpu().numpy()\n",
    "            print('label: ', label)\n",
    "            label = np.array([np.argmax(l) for l in label])\n",
    "            accuracy = np.sum(pred == label)\n",
    "            accuracy /= len(pred)\n",
    "            total_accuracy += accuracy\n",
    "            break\n",
    "    print(f\"Accuracy: {total_accuracy/len(test_loader):.3f}\")"
   ]
  },
  {
   "cell_type": "code",
   "execution_count": 107,
   "id": "01998613",
   "metadata": {},
   "outputs": [],
   "source": [
    "def evaluate_accuracy(model, test_loader):\n",
    "    total_accuracy = 0.0\n",
    "    total_samples = 0\n",
    "    with torch.no_grad():\n",
    "        for feature, label in test_loader:\n",
    "            feature = feature.to(device)\n",
    "            label = label.to(device)\n",
    "            output = model(feature)\n",
    "            probabilities = torch.softmax(output, dim=1)\n",
    "            _, predicted = torch.max(probabilities, 1)\n",
    "            correct = (predicted == torch.argmax(label, dim=1)).sum().item()\n",
    "            total_accuracy += correct\n",
    "            total_samples += label.size(0)\n",
    "    accuracy = total_accuracy / total_samples\n",
    "    print(f\"Accuracy: {accuracy:.3f}\")"
   ]
  },
  {
   "cell_type": "code",
   "execution_count": 114,
   "id": "92972632",
   "metadata": {},
   "outputs": [],
   "source": [
    "import torch.nn.functional as F\n",
    "\n",
    "def evaluate_log_loss(model, test_loader):\n",
    "    total_loss = 0.0\n",
    "    with torch.no_grad():\n",
    "        for feature, label in test_loader:\n",
    "            feature = feature.to(device)\n",
    "            label = label.to(device)\n",
    "            output = model(feature)\n",
    "            \n",
    "            loss = F.binary_cross_entropy_with_logits(output, label)\n",
    "            total_loss += loss.item()\n",
    "    \n",
    "    average_loss = total_loss / len(test_loader)\n",
    "    \n",
    "    print(f\"Log Loss: {average_loss:.3f}\")"
   ]
  },
  {
   "cell_type": "code",
   "execution_count": 115,
   "id": "d4f8bd5d",
   "metadata": {},
   "outputs": [
    {
     "name": "stdout",
     "output_type": "stream",
     "text": [
      "Accuracy: 0.835\n"
     ]
    }
   ],
   "source": [
    "evaluate_accuracy(lin_model, test_loader)"
   ]
  },
  {
   "cell_type": "code",
   "execution_count": 116,
   "id": "db790410",
   "metadata": {},
   "outputs": [
    {
     "name": "stdout",
     "output_type": "stream",
     "text": [
      "Log Loss: 0.106\n"
     ]
    }
   ],
   "source": [
    "evaluate_log_loss(lin_model, test_loader)"
   ]
  },
  {
   "cell_type": "code",
   "execution_count": null,
   "id": "7a1da3bc-3695-4b5d-9ddb-28ca9739ef65",
   "metadata": {
    "scrolled": true
   },
   "outputs": [],
   "source": [
    "def combine_image_text(texts, images, labels, clip_model, clip_preprocess):\n",
    "    image_text = []\n",
    "    label_list = []\n",
    "    for idx in range(len(df)):\n",
    "        text = texts[idx]\n",
    "        image = IMAGE_PATH + images[idx]\n",
    "        print(text)\n",
    "        text = clip.tokenize(text).to(device)\n",
    "        image = preprocess(Image.open(image)).unsqueeze(0).to(device)\n",
    "\n",
    "        with torch.no_grad():\n",
    "            text_features = model.encode_text(text)\n",
    "            image_features = model.encode_image(image)\n",
    "        combined_features = torch.cat((text_features), image_features), 1))\n",
    "        image_text.append(combined_features)\n",
    "    return image_text"
   ]
  },
  {
   "cell_type": "code",
   "execution_count": null,
   "id": "9ce73d39",
   "metadata": {},
   "outputs": [],
   "source": []
  }
 ],
 "metadata": {
  "kernelspec": {
   "display_name": "Python 3",
   "language": "python",
   "name": "python3"
  },
  "language_info": {
   "codemirror_mode": {
    "name": "ipython",
    "version": 3
   },
   "file_extension": ".py",
   "mimetype": "text/x-python",
   "name": "python",
   "nbconvert_exporter": "python",
   "pygments_lexer": "ipython3",
   "version": "3.8.8"
  }
 },
 "nbformat": 4,
 "nbformat_minor": 5
}
